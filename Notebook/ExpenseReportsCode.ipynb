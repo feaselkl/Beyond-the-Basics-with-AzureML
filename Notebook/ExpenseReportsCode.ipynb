{
 "cells": [
  {
   "cell_type": "markdown",
   "source": [
    "# Building a Regression Analysis using Azure Machine Learning\r\n",
    "\r\n",
    "This first notebook shows how to perform a fairly straightforward regression analysis using Azure Machine Laerning.  We will use `scikit-learn`'s `DecisionTreeRegressor` algorithm to train a model and see how that model fares.\r\n",
    "\r\n",
    "Because we are running this notebook directly from Azure Machine Learning `Workspace.from_config()` \"just works.\"  As we'll see later, in order to run this locally, we'd need to set up a configuration file."
   ],
   "metadata": {}
  },
  {
   "cell_type": "code",
   "execution_count": null,
   "source": [
    "from azureml.core import Workspace, Environment, Datastore, Dataset\r\n",
    "from azureml.core.experiment import Experiment\r\n",
    "from azureml.data.datapath import DataPath\r\n",
    "from azureml.data import DataType\r\n",
    "from azureml.core.run import Run\r\n",
    "from azureml.core.model import Model\r\n",
    "\r\n",
    "from sklearn.tree import DecisionTreeRegressor\r\n",
    "from sklearn.metrics import mean_squared_error\r\n",
    "import joblib\r\n",
    "import numpy as np\r\n",
    "import pandas as pd\r\n",
    "from math import sqrt\r\n",
    "\r\n",
    "ws = Workspace.from_config()"
   ],
   "outputs": [],
   "metadata": {
    "gather": {
     "logged": 1628209729244
    }
   }
  },
  {
   "cell_type": "markdown",
   "source": [
    "This section assumes that you already have an Azure SQL Database set up and have created a datastore named `expense_reports`."
   ],
   "metadata": {}
  },
  {
   "cell_type": "code",
   "execution_count": null,
   "source": [
    "\r\n",
    "expenses_datastore = Datastore.get(ws, datastore_name=\"expense_reports\")"
   ],
   "outputs": [],
   "metadata": {
    "collapsed": true,
    "gather": {
     "logged": 1628208461725
    },
    "jupyter": {
     "outputs_hidden": false,
     "source_hidden": false
    },
    "nteract": {
     "transient": {
      "deleting": false
     }
    }
   }
  },
  {
   "cell_type": "markdown",
   "source": [
    "In this section, we will get two separate datasets.  The first dataset is all expense report data prior to the year 2017, and the next dataset is all data after 2017.  It turns out that there was some expense reporting fraud starting in the year 2018, and so we want to train a model on pre-fraudulent data."
   ],
   "metadata": {}
  },
  {
   "cell_type": "code",
   "execution_count": null,
   "source": [
    "query = \"\"\"SELECT\r\n",
    "    er.EmployeeID,\r\n",
    "    CONCAT(e.FirstName, ' ', e.LastName) AS EmployeeName,\r\n",
    "    ec.ExpenseCategoryID,\r\n",
    "    ec.ExpenseCategory,\r\n",
    "    er.ExpenseDate,\r\n",
    "    YEAR(er.ExpenseDate) AS ExpenseYear,\r\n",
    "    -- Python requires FLOAT values--it does not support DECIMAL\r\n",
    "    CAST(er.Amount AS FLOAT) AS Amount\r\n",
    "FROM dbo.ExpenseReport er\r\n",
    "    INNER JOIN dbo.ExpenseCategory ec\r\n",
    "        ON er.ExpenseCategoryID = ec.ExpenseCategoryID\r\n",
    "    INNER JOIN dbo.Employee e\r\n",
    "        ON e.EmployeeID = er.EmployeeID\r\n",
    "WHERE\r\n",
    "\tYEAR(er.ExpenseDate) < 2017;\"\"\"\r\n",
    "queryTraining = DataPath(expenses_datastore, query)\r\n",
    "\r\n",
    "data_types = {\r\n",
    "    'EmployeeID': DataType.to_long(),\r\n",
    "    'EmployeeName': DataType.to_string(),\r\n",
    "    'ExpenseCategoryID': DataType.to_long(),\r\n",
    "    'ExpenseCategory': DataType.to_string(),\r\n",
    "    'ExpenseDate': DataType.to_datetime('%Y-%m-%d'),\r\n",
    "    'ExpenseYear': DataType.to_long(),\r\n",
    "    'Amount': DataType.to_float()\r\n",
    "}\r\n",
    "\r\n",
    "queryTesting = DataPath(expenses_datastore, query.replace(\"YEAR(er.ExpenseDate) < 2017;\", \"YEAR(er.ExpenseDate) >= 2017;\"))\r\n",
    "\r\n",
    "training = Dataset.Tabular.from_sql_query(queryTraining, set_column_types=data_types).to_pandas_dataframe()\r\n",
    "testing = Dataset.Tabular.from_sql_query(queryTesting, set_column_types=data_types).to_pandas_dataframe()"
   ],
   "outputs": [],
   "metadata": {
    "collapsed": true,
    "gather": {
     "logged": 1628208745767
    },
    "jupyter": {
     "outputs_hidden": false,
     "source_hidden": false
    },
    "nteract": {
     "transient": {
      "deleting": false
     }
    }
   }
  },
  {
   "cell_type": "markdown",
   "source": [
    "Here, we run our experiment, named `ExpenseReportsNotebook`.  We create a `DecisionTreeRegressor()` and fit the expense category and the year as inputs to a model, trying to predict the amount spent.  Once we do that, we calculate the quality of the model using Root Mean Squared Error (RMSE) and log this result.\r\n",
    "\r\n",
    "From there, we look at the RMSE of each employee, in an attempt to see if there is anything additional we might be able to glean, such as which people might have engaged in fraudulent behavior.  It turns out that just by RMSE, we're able to find the fraudsters.\r\n",
    "\r\n",
    "Finally, we'll save this model and store it in `outputs/model.pkl` and register this model.  This way, we'd be able to deploy the model later if we so desire."
   ],
   "metadata": {}
  },
  {
   "cell_type": "code",
   "execution_count": null,
   "source": [
    "# Begin experiment\r\n",
    "experiment = Experiment(workspace=ws, name=\"ExpenseReportsNotebook\")\r\n",
    "run = experiment.start_logging()\r\n",
    "\r\n",
    "# Fit the data to a decision tree\r\n",
    "reg = DecisionTreeRegressor()\r\n",
    "reg.fit(training[[\"ExpenseCategoryID\", \"ExpenseYear\"]], training[[\"Amount\"]].values.ravel())\r\n",
    "\r\n",
    "# Generate predictions based on the trained model\r\n",
    "pred = pd.DataFrame({\"AmountPrediction\": reg.predict(testing[[\"ExpenseCategoryID\", \"ExpenseYear\"]]) })\r\n",
    "# Concatenate testing data with predictions\r\n",
    "testdf = pd.concat([testing, pred], axis=1)\r\n",
    "# Calculate the root mean squared error\r\n",
    "rmse = sqrt(mean_squared_error(testdf[\"Amount\"], testdf[\"AmountPrediction\"]))\r\n",
    "\r\n",
    "# Log the overall rmse\r\n",
    "run.log('RMSE', rmse)\r\n",
    "\r\n",
    "print()\r\n",
    "print('#############################')\r\n",
    "print('RMSE is {}'.format(rmse))\r\n",
    "print('#############################')\r\n",
    "print()\r\n",
    "\r\n",
    "# Log each employee's name, expense category, and RMSE\r\n",
    "employees = testdf.groupby(['EmployeeName', 'ExpenseCategory'])\r\n",
    "for cat, grp in employees:\r\n",
    "    empname, expcat = cat\r\n",
    "    rmse = sqrt(mean_squared_error(grp[\"Amount\"], grp[\"AmountPrediction\"]))\r\n",
    "    rescat = ('{}, {}, RMSE'.format(empname, expcat))\r\n",
    "    run.log(rescat, rmse)\r\n",
    "\r\n",
    "# Save the model and upload it to the run\r\n",
    "model_file_name = 'outputs/model.pkl'\r\n",
    "joblib.dump(value = reg, filename = model_file_name)\r\n",
    "\r\n",
    "# Typically, the run.upload_file() method would be used to capture saved files\r\n",
    "# However, as per the Azure documentation, files stored in the outputs/ directory are automatically captured by the current Run\r\n",
    "\r\n",
    "# Complete the run\r\n",
    "run.complete()\r\n",
    "\r\n",
    "# Register the model with the workspace\r\n",
    "model = run.register_model(model_name = 'ExpenseReportsNotebookModel', model_path = model_file_name)"
   ],
   "outputs": [],
   "metadata": {
    "collapsed": true,
    "gather": {
     "logged": 1628210822454
    },
    "jupyter": {
     "outputs_hidden": false,
     "source_hidden": false
    },
    "nteract": {
     "transient": {
      "deleting": false
     }
    }
   }
  }
 ],
 "metadata": {
  "kernel_info": {
   "name": "python3-azureml"
  },
  "kernelspec": {
   "display_name": "Python 3",
   "language": "python",
   "name": "python3"
  },
  "language_info": {
   "codemirror_mode": {
    "name": "ipython",
    "version": 3
   },
   "file_extension": ".py",
   "mimetype": "text/x-python",
   "name": "python",
   "nbconvert_exporter": "python",
   "pygments_lexer": "ipython3",
   "version": "3.8.8"
  },
  "microsoft": {
   "host": {
    "AzureML": {
     "notebookHasBeenCompleted": true
    }
   }
  },
  "nteract": {
   "version": "nteract-front-end@1.0.0"
  }
 },
 "nbformat": 4,
 "nbformat_minor": 2
}