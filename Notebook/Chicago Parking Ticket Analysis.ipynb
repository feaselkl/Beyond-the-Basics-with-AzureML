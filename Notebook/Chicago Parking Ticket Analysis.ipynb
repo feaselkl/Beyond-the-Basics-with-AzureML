{
  "cells": [
    {
      "attachments": {},
      "cell_type": "markdown",
      "metadata": {
        "nteract": {
          "transient": {
            "deleting": false
          }
        }
      },
      "source": [
        "# Chicago Parking Ticket Data Analysis\n",
        "\n",
        "We will use a notebook to perform some basic analysis of the Chicago Parking Ticket data sample.\n",
        "\n",
        "This is a 1 million row randomized sample from [Daniel Hutmacher's Chicago Parking Tickets database](https://sqlsunday.com/2022/12/05/new-demo-database/).  I have added a new label column, `PaymentIsOutstanding`, which represents whether the ticket recipient still owes the City of Chicago any money.\n",
        "\n",
        "Our goal in the subsequent analysis is to gain a better feel for this dataset and some of the things we will need to do when we want to run an experiment to train a model.\n",
        "\n",
        "## Retrieve Data"
      ]
    },
    {
      "cell_type": "code",
      "execution_count": null,
      "metadata": {
        "gather": {
          "logged": 1684159449947
        }
      },
      "outputs": [],
      "source": [
        "from azureml.core import Workspace, Datastore, Dataset\n",
        "import numpy as np\n",
        "import pandas as pd\n",
        "\n",
        "ws=Workspace.from_config()"
      ]
    },
    {
      "cell_type": "code",
      "execution_count": null,
      "metadata": {
        "gather": {
          "logged": 1684157993585
        },
        "jupyter": {
          "outputs_hidden": false,
          "source_hidden": false
        },
        "nteract": {
          "transient": {
            "deleting": false
          }
        }
      },
      "outputs": [],
      "source": [
        "dataset=Dataset.get_by_name(ws, name='ChicagoParkingTickets')\n",
        "df=dataset.to_pandas_dataframe()"
      ]
    },
    {
      "attachments": {},
      "cell_type": "markdown",
      "metadata": {
        "nteract": {
          "transient": {
            "deleting": false
          }
        }
      },
      "source": [
        "## Perform Exploratory Analysis\n",
        "\n",
        "`len()` tells us how many rows there are in a dataframe."
      ]
    },
    {
      "cell_type": "code",
      "execution_count": null,
      "metadata": {
        "gather": {
          "logged": 1684158082686
        },
        "jupyter": {
          "outputs_hidden": false,
          "source_hidden": false
        },
        "nteract": {
          "transient": {
            "deleting": false
          }
        }
      },
      "outputs": [],
      "source": [
        "len(df)"
      ]
    },
    {
      "attachments": {},
      "cell_type": "markdown",
      "metadata": {
        "nteract": {
          "transient": {
            "deleting": false
          }
        }
      },
      "source": [
        "Review the top few rows in the dataframe."
      ]
    },
    {
      "cell_type": "code",
      "execution_count": null,
      "metadata": {
        "gather": {
          "logged": 1684158085530
        },
        "jupyter": {
          "outputs_hidden": false,
          "source_hidden": false
        },
        "nteract": {
          "transient": {
            "deleting": false
          }
        }
      },
      "outputs": [],
      "source": [
        "df.head()"
      ]
    },
    {
      "attachments": {},
      "cell_type": "markdown",
      "metadata": {
        "nteract": {
          "transient": {
            "deleting": false
          }
        }
      },
      "source": [
        "We have a mix of datetime, string, and numeric data, as well as one label:  `PaymentIsOutstanding`.\n",
        "\n",
        "What is the set of unique values for one of these columns?  I'll choose `Police_District` as an example."
      ]
    },
    {
      "cell_type": "code",
      "execution_count": null,
      "metadata": {
        "gather": {
          "logged": 1684158148847
        },
        "jupyter": {
          "outputs_hidden": false,
          "source_hidden": false
        },
        "nteract": {
          "transient": {
            "deleting": false
          }
        }
      },
      "outputs": [],
      "source": [
        "df['Police_District'].unique()"
      ]
    },
    {
      "attachments": {},
      "cell_type": "markdown",
      "metadata": {
        "nteract": {
          "transient": {
            "deleting": false
          }
        }
      },
      "source": [
        "It looks like police district is really an integer, even though it's saved as a decimal.  Also, `NaN` appears, which indicates some police districts were either missing or had data which didn't fit the datatype.  We'll want to get back to this.\n",
        "\n",
        "Before we go too much further, what is the cardinality (distinct count) of every column?"
      ]
    },
    {
      "cell_type": "code",
      "execution_count": null,
      "metadata": {
        "gather": {
          "logged": 1684158305265
        },
        "jupyter": {
          "outputs_hidden": false,
          "source_hidden": false
        },
        "nteract": {
          "transient": {
            "deleting": false
          }
        }
      },
      "outputs": [],
      "source": [
        "df.apply(pd.Series.nunique)"
      ]
    },
    {
      "attachments": {},
      "cell_type": "markdown",
      "metadata": {
        "nteract": {
          "transient": {
            "deleting": false
          }
        }
      },
      "source": [
        "We can see that issued date is almost entirely unique.  For analysis, we might want to split this either into smaller components (e.g., year, month, day columns) or split out the date and time.  We may also wish to bin the times in some fashion, such as into 6-hour blocks.\n",
        "\n",
        "We can also pick out a little bit more from this as well:\n",
        "\n",
        "* Every community has a few measures: hardship index, per-capita income, percent unemployed, percent without diploma, percent households below poverty.  For the most part, these columns are unique.\n",
        "* Given that there are 22 police districts, 13 sectors, 98 neighborhoods, 77 communities, and 59 ZIP codes, there's going to be some overlap between these.\n",
        "* There are 64 license plate states, which may seem weird when you consider there are 50 states in the US.  This dataset also includes out-of-country visitors, especially from Canada.  It might make sense to reshape this data:  in-state, out-of-state, out-of-country."
      ]
    },
    {
      "cell_type": "code",
      "execution_count": null,
      "metadata": {
        "gather": {
          "logged": 1684158787472
        },
        "jupyter": {
          "outputs_hidden": false,
          "source_hidden": false
        },
        "nteract": {
          "transient": {
            "deleting": false
          }
        }
      },
      "outputs": [],
      "source": [
        "pd.options.display.max_rows=64\n",
        "df['License_Plate_State'].value_counts()"
      ]
    },
    {
      "attachments": {},
      "cell_type": "markdown",
      "metadata": {
        "nteract": {
          "transient": {
            "deleting": false
          }
        }
      },
      "source": [
        "`Plate_Type` is intended to indicate what kind of vehicle this is."
      ]
    },
    {
      "cell_type": "code",
      "execution_count": null,
      "metadata": {
        "gather": {
          "logged": 1684158829311
        },
        "jupyter": {
          "outputs_hidden": false,
          "source_hidden": false
        },
        "nteract": {
          "transient": {
            "deleting": false
          }
        }
      },
      "outputs": [],
      "source": [
        "pd.options.display.max_rows=53\n",
        "df['Plate_Type'].value_counts()"
      ]
    },
    {
      "attachments": {},
      "cell_type": "markdown",
      "metadata": {
        "nteract": {
          "transient": {
            "deleting": false
          }
        }
      },
      "source": [
        "We can see that after the first three plate types, there are very few examples of any other.  This indicates that we probably want to have Passenger (PAS), Truck (TRK), Temporary Tags (TMP), and Other.\n",
        "\n",
        "Let's take a look at some of the rows which are marked as having outstanding payments."
      ]
    },
    {
      "cell_type": "code",
      "execution_count": null,
      "metadata": {
        "gather": {
          "logged": 1684159000568
        },
        "jupyter": {
          "outputs_hidden": false,
          "source_hidden": false
        },
        "nteract": {
          "transient": {
            "deleting": false
          }
        }
      },
      "outputs": [],
      "source": [
        "df[df['PaymentIsOutstanding'] == 1].head()"
      ]
    },
    {
      "attachments": {},
      "cell_type": "markdown",
      "metadata": {
        "nteract": {
          "transient": {
            "deleting": false
          }
        }
      },
      "source": [
        "And here are a few rows where payment is complete.  This could be because the person made payment or because a judge threw out the ticket."
      ]
    },
    {
      "cell_type": "code",
      "execution_count": null,
      "metadata": {
        "gather": {
          "logged": 1684159029310
        },
        "jupyter": {
          "outputs_hidden": false,
          "source_hidden": false
        },
        "nteract": {
          "transient": {
            "deleting": false
          }
        }
      },
      "outputs": [],
      "source": [
        "df[df['PaymentIsOutstanding'] == 0].head()"
      ]
    },
    {
      "attachments": {},
      "cell_type": "markdown",
      "metadata": {
        "nteract": {
          "transient": {
            "deleting": false
          }
        }
      },
      "source": [
        "## Correlation Analysis\n",
        "\n",
        "Something we'll want to do is perform a basic correlation analysis.  We'll focus on the numeric features and see if any of these correlate to whether payment is outstanding."
      ]
    },
    {
      "cell_type": "code",
      "execution_count": null,
      "metadata": {
        "gather": {
          "logged": 1684159394852
        },
        "jupyter": {
          "outputs_hidden": false,
          "source_hidden": false
        },
        "nteract": {
          "transient": {
            "deleting": false
          }
        }
      },
      "outputs": [],
      "source": [
        "pd.options.display.max_rows=20\n",
        "df.corr(numeric_only=True)"
      ]
    },
    {
      "attachments": {},
      "cell_type": "markdown",
      "metadata": {
        "nteract": {
          "transient": {
            "deleting": false
          }
        }
      },
      "source": [
        "As an initial look, there aren't many numeric features which correlate well linearly with `PaymentIsOutstanding`.\n",
        "\n",
        "We can also see that some tight correlation between hardship index, per-capita income (in the negative direction), percent unemployed, percent without diploma, and percent households below poverty.  To avoid the risk of multicollinearity, we probably want to drop either hardship index or the other columns mentioned.\n",
        "\n",
        "One last thing we'll do is include year and month features from the issuance date, and see if those are correlated at all with payment."
      ]
    },
    {
      "cell_type": "code",
      "execution_count": null,
      "metadata": {
        "gather": {
          "logged": 1684159760434
        },
        "jupyter": {
          "outputs_hidden": false,
          "source_hidden": false
        },
        "nteract": {
          "transient": {
            "deleting": false
          }
        }
      },
      "outputs": [],
      "source": [
        "df['Year'], df['Month']=df['Issued_date'].dt.year, df['Issued_date'].dt.month\n",
        "df.corr(numeric_only=True)"
      ]
    },
    {
      "attachments": {},
      "cell_type": "markdown",
      "metadata": {
        "nteract": {
          "transient": {
            "deleting": false
          }
        }
      },
      "source": [
        "It looks like the year has a small effect (older tickets are more likely to be paid up), but month of year doesn't have any real benefit to us.\n",
        "\n",
        "## Final Cleanup\n",
        "\n",
        "Before we wrap things up, we'll want to see what other types of data cleanup we might want to do.  For example, which columns have `NaN`?"
      ]
    },
    {
      "cell_type": "code",
      "execution_count": null,
      "metadata": {
        "gather": {
          "logged": 1684160085908
        },
        "jupyter": {
          "outputs_hidden": false,
          "source_hidden": false
        },
        "nteract": {
          "transient": {
            "deleting": false
          }
        }
      },
      "outputs": [],
      "source": [
        "pd.options.display.max_rows=30\n",
        "df.isna().any()"
      ]
    },
    {
      "attachments": {},
      "cell_type": "markdown",
      "metadata": {
        "nteract": {
          "transient": {
            "deleting": false
          }
        }
      },
      "source": [
        "It looks like the following columns do:\n",
        "\n",
        "* Tract\n",
        "* Police District\n",
        "* Plate Type\n",
        "* License Plate State"
      ]
    },
    {
      "attachments": {},
      "cell_type": "markdown",
      "metadata": {
        "nteract": {
          "transient": {
            "deleting": false
          }
        }
      },
      "source": [
        "## Plan of Action\n",
        "\n",
        "* Find and replace missing values for police district\n",
        "* Create features for year, time block during the day, license plate origin (based on license plate state), vehicle type (based on plate type)\n",
        "* Remove Hardship index and Census tract\n",
        "* Encode categorical features so we can perform a classification analysis."
      ]
    },
    {
      "cell_type": "code",
      "execution_count": null,
      "metadata": {
        "jupyter": {
          "outputs_hidden": false,
          "source_hidden": false
        },
        "nteract": {
          "transient": {
            "deleting": false
          }
        }
      },
      "outputs": [],
      "source": []
    }
  ],
  "metadata": {
    "kernel_info": {
      "name": "python310-sdkv2"
    },
    "kernelspec": {
      "display_name": "Python 3.10 - SDK V2",
      "language": "python",
      "name": "python310-sdkv2"
    },
    "language_info": {
      "codemirror_mode": {
        "name": "ipython",
        "version": 3
      },
      "file_extension": ".py",
      "mimetype": "text/x-python",
      "name": "python",
      "nbconvert_exporter": "python",
      "pygments_lexer": "ipython3",
      "version": "3.10.6"
    },
    "microsoft": {
      "host": {
        "AzureML": {
          "notebookHasBeenCompleted": true
        }
      },
      "ms_spell_check": {
        "ms_spell_check_language": "en"
      }
    },
    "nteract": {
      "version": "nteract-front-end@1.0.0"
    }
  },
  "nbformat": 4,
  "nbformat_minor": 2
}
